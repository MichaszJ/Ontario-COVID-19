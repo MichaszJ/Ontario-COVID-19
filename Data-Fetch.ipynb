{
 "cells": [
  {
   "cell_type": "code",
   "execution_count": 1,
   "metadata": {},
   "outputs": [],
   "source": [
    "import requests\n",
    "from bs4 import BeautifulSoup"
   ]
  },
  {
   "cell_type": "code",
   "execution_count": 2,
   "metadata": {},
   "outputs": [
    {
     "name": "stdout",
     "output_type": "stream",
     "text": [
      "<!doctype html> <html class=\"no-js\" lang=\"en\"> <head> <meta charset=\"utf-8\"> <meta name=\"viewport\" content=\"width=device-width,initial-scale=1\"> <meta http-equiv=\"X-UA-Compatible\" content=\"IE=edge\"> <meta name=\"sha\" content=\"616d27eaf506f7cf19a4e156e382d5670e48719b\"> <title></title> <base href=\"/\"> <link rel=\"stylesheet\" media=\"screen\" href=\"/css/combined.css\"> <link rel=\"stylesheet\" media=\"print\" href=\"/css/print.css\"> <script src=\"/vendor/modernizr/modernizr.js\"></script> <script>!function(a,e,o,n,c,i,t){a.GoogleAnalyticsObject=c,a.ga=a.ga||function(){(a.ga.q=a.ga.q||[]).push(arguments)},a.ga.l=1*new Date,i=e.createElement(o),t=e.getElementsByTagName(o)[0],i.async=1,i.src=\"//www.google-analytics.com/analytics.js\",t.parentNode.insertBefore(i,t)}(window,document,\"script\",0,\"ga\"),ga(\"create\",\"UA-21003310-6\",{cookieDomain:\"auto\",allowLinker:!0}),ga(\"create\",\"UA-48649528-1\",{cookieDomain:\"auto\",allowLinker:!0,name:\"ServiceOntario\"}),ga(\"require\",\"linker\"),ga(\"linker:autoLink\",[\"serviceontario.ca\",\"services.gov.on.ca\",\"appmybizaccount.gov.on.ca\",\"appointments.gov.on.ca\",\"personalproperty.gov.on.ca\",\"orgforms.gov.on.ca\",\"services1.gov.on.ca\"])</script> <link rel=\"icon\" href=\"/img/favicon.ico\" type=\"image/x-icon\"> <link rel=\"shortcut icon\" href=\"/img/favicon.ico\" type=\"image/x-icon\"> <link class=\"hreflang\"> <link class=\"hreflang-alt\"> <!-- Bing webmaster tools --> <meta name=\"msvalidate.01\" content=\"1458065E1A4468FEAE68FAF332D18764\"> <script src=\"https://www.google.com/recaptcha/api.js?render=explicit\" async defer=\"defer\"></script> </head> <body ng-app=\"onesite.app\" ng-controller=\"MainController as mainController\" ng-cloak class=\"node-{{ mainController.node.content.id }}\" ng-class=\"{'static splash': mainController.node.content.type === 'splash',\n",
      "         'static home-page': mainController.node.content.type === 'homepage'}\"> <noscript> <header> <div class=\"row expanded\"> <div class=\"small-12 columns\"> <div class=\"iconWrapperLongNoBg iconLogoHeader\"> <img class=\"site-logo\" ng-src=\"/img/logo-ontario@2x.png\" alt=\"Government of Ontario | Gouvernement de lâOntario\" src=\"/img/logo-ontario@2x.png\"> </div> </div> </div> </header> <main style=\"margin-top:1em\"> <div class=\"row\"> <div class=\"small-9 columns\" lang=\"en\"> <h1>JavaScript is required to view this site</h1> <p>Ontario.ca needs JavaScript to function properly and provide you with a fast, stable experience. Please enable JavaScript or check your browser's settings.</p> </div> <div class=\"small-12 columns\" lang=\"fr\"> <h1>JavaScript est nÃ©cessaire pour ce site</h1> <p>Le site Ontario.ca exige JavaScript pour fonctionner comme il faut, avec rapiditÃ© et stabilitÃ©. Veuillez activer JavaScript ou vÃ©rifier les paramÃ¨tres de votre navigateur.</p> </div> </div> </main> </noscript> <!--\n",
      "      Skip link that appears on focus, don't add to select language page or search\n",
      "    --> <div class=\"row\" ng-if=\"mainController.node.content.params.contentType !== '#!'\"> <div class=\"columns center small-3 small-centered\"> <a ng-if=\"mainController.node.content.params.contentType !== 'searchResults'\" id=\"skip-link\" href=\"{{mainController.node.content.params.alias}}#ng-view\" class=\"show-on-focus skip-link\" target=\"_self\"> {{ 'Skip to main content' | translate }} </a> <!--\n",
      "              For all search related pages, i.e. main search, trade calendar, gazette,\n",
      "              orders in council, data catalogue, land registration, etc.\n",
      "\n",
      "              With this implementation, the skip link will only work on the first click\n",
      "              and will benefit mostly when a user clicks a search page with a query already\n",
      "              in the URL. This is a workaround since the mainController doesn't have access\n",
      "              to updated queries.\n",
      "            --> <a ng-if=\"mainController.node.content.params.contentType === 'searchResults'\" id=\"skip-link\" href=\"#ng-view\" class=\"show-on-focus skip-link\"> {{ 'Skip to main content' | translate }} </a> </div> </div> <onesite-header content-node=\"mainController.node.content\" search=\"mainController.search\" update=\"mainController.update\" role=\"banner\" ng-show=\"mainController.node.content.headerType\" id=\"ng-view-header\"> </onesite-header> <div id=\"ie10\" class=\"ie10\" style=\"margin-bottom:0\"> <div class=\"row small\"> <div class=\"small-1 columns\"> <img alt=\"\" class=\"top-margin-half\" src=\"https://files.ontario.ca/banner-icon-alert-xsmall.png\"> </div> <div class=\"small-11 columns\"> <p lang=\"en\"> You are using an outdated browser that is no longer supported by Ontario.ca. <br>Outdated browsers lack safety features that keep your information secure, and they can also be slow. <br><a href=\"/page/browsers\">Learn about the browsers we support.</a> </p> <p lang=\"fr\" style=\"margin-bottom:0\"> Vous utilisez un navigateur dÃ©suet qui nâest plus acceptÃ© par Ontario.ca. <br>Les navigateurs dÃ©suets ne disposent pas de caractÃ©ristiques sÃ©curitaires permettant dâassurer la sÃ©curitÃ© de vos renseignements. <br><a href=\"/fr/page/navigateurs\">En savoir plus sur les navigateurs que nous supportons.</a> </p> </div> </div> </div> <div ng-view id=\"ng-view\"></div> <script src=\"/vendor/moment/min/moment.min.js\"></script> <script src=\"https://cdnjs.cloudflare.com/ajax/libs/jquery/2.2.4/jquery.min.js\"></script> <script src=\"/js/libs.min.js\"></script> <noscript><iframe src=\"https://www.googletagmanager.com/ns.html?id=GTM-T7V5LF\" height=\"0\" width=\"0\" style=\"display:none;visibility:hidden\"></iframe></noscript> <script>!function(e,t,a,n,g){e[n]=e[n]||[],e[n].push({\"gtm.start\":(new Date).getTime(),event:\"gtm.js\"});var m=t.getElementsByTagName(a)[0],r=t.createElement(a);r.async=!0,r.src=\"//www.googletagmanager.com/gtm.js?id=GTM-T7V5LF\",m.parentNode.insertBefore(r,m)}(window,document,\"script\",\"dataLayer\")</script> <script src=\"/onesite_modules/onesite-angular-foundation/onesite-angular-foundation.min.js\"></script> <script src=\"/onesite_modules/onesite-analytics/onesite-analytics.min.js\"></script> <script src=\"/onesite_modules/onesite-search/onesite-search.min.js\"></script> <script src=\"/onesite_modules/onesite-contact-us/onesite-contact-us.min.js\"></script> <script src=\"/onesite_modules/onesite-body/onesite-body.min.js\"></script> <script src=\"/onesite_modules/onesite-live-chat/onesite-live-chat.min.js\"></script> <script src=\"/onesite_modules/onesite-holiday-pay-calculator/onesite-holiday-pay-calculator.min.js\"></script> <script src=\"/onesite_modules/onesite-moment/onesite-moment.min.js\"></script> <script src=\"/onesite_modules/onesite-health/yellowCard/onesite-health.min.js\"></script> <script src=\"/core_modules/content-type/content-type.min.js\"></script> <script src=\"/core_modules/component/component.min.js\"></script> <script src=\"/js/app.min.js\"></script> <script src=\"/splash/splash.min.js\"></script> \n",
      "    <script type=\"text/javascript\">\n",
      "      /*@cc_on\n",
      "        if (/^9|10/.test(@_jscript_version)) {\n",
      "          document.getElementById(\"ie10\").className = \"alert-box\";\n",
      "        }\n",
      "      @*/\n",
      "    </script>\n",
      "     </body> </html> \n"
     ]
    }
   ],
   "source": [
    "link = 'https://www.ontario.ca/page/2019-novel-coronavirus'\n",
    "data = requests.get(link).text\n",
    "\n",
    "print(data)"
   ]
  },
  {
   "cell_type": "code",
   "execution_count": null,
   "metadata": {},
   "outputs": [],
   "source": []
  }
 ],
 "metadata": {
  "kernelspec": {
   "display_name": "'Python Interactive'",
   "language": "python",
   "name": "3ec91f7b-6399-4f3f-91ce-7dfc6303c49c"
  },
  "language_info": {
   "codemirror_mode": {
    "name": "ipython",
    "version": 3
   },
   "file_extension": ".py",
   "mimetype": "text/x-python",
   "name": "python",
   "nbconvert_exporter": "python",
   "pygments_lexer": "ipython3",
   "version": "3.7.5"
  }
 },
 "nbformat": 4,
 "nbformat_minor": 2
}
