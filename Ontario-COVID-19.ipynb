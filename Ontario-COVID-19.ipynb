{
 "cells": [
  {
   "cell_type": "code",
   "execution_count": 1,
   "metadata": {},
   "outputs": [],
   "source": [
    "import pandas as pd\n",
    "import matplotlib.pyplot as plt\n",
    "import numpy as np"
   ]
  },
  {
   "cell_type": "code",
   "execution_count": 2,
   "metadata": {},
   "outputs": [
    {
     "name": "stdout",
     "output_type": "stream",
     "text": [
      "   pruid            prname              prnameFR        date  numconf  \\\n",
      "0     35           Ontario               Ontario  31-01-2020        3   \n",
      "1     59  British Columbia  Colombie-Britannique  31-01-2020        1   \n",
      "2      1            Canada                Canada  31-01-2020        4   \n",
      "3     35           Ontario               Ontario  08-02-2020        3   \n",
      "4     59  British Columbia  Colombie-Britannique  08-02-2020        4   \n",
      "\n",
      "   numprob  numdeaths  numtotal  numtoday  \n",
      "0        0          0         3       NaN  \n",
      "1        0          0         1       NaN  \n",
      "2        0          0         4       NaN  \n",
      "3        0          0         3       NaN  \n",
      "4        0          0         4       NaN  \n"
     ]
    }
   ],
   "source": [
    "# csv from https://www.canada.ca/en/public-health/services/diseases/2019-novel-coronavirus-infection.html\n",
    "dfTotal = pd.read_csv('summary_current.csv')\n",
    "\n",
    "print(dfTotal.head())"
   ]
  },
  {
   "cell_type": "code",
   "execution_count": 3,
   "metadata": {},
   "outputs": [
    {
     "name": "stdout",
     "output_type": "stream",
     "text": [
      "     pruid   prname prnameFR        date  numconf  numprob  numdeaths  \\\n",
      "0       35  Ontario  Ontario  31-01-2020        3        0          0   \n",
      "3       35  Ontario  Ontario  08-02-2020        3        0          0   \n",
      "6       35  Ontario  Ontario  16-02-2020        3        0          0   \n",
      "9       35  Ontario  Ontario  21-02-2020        3        0          0   \n",
      "12      35  Ontario  Ontario  24-02-2020        4        0          0   \n",
      "15      35  Ontario  Ontario  25-02-2020        4        0          0   \n",
      "18      35  Ontario  Ontario  26-02-2020        5        0          0   \n",
      "21      35  Ontario  Ontario  27-02-2020        6        0          0   \n",
      "24      35  Ontario  Ontario  29-02-2020        8        0          0   \n",
      "27      35  Ontario  Ontario  01-03-2020       15        0          0   \n",
      "31      35  Ontario  Ontario  03-03-2020       20        0          0   \n",
      "35      35  Ontario  Ontario  05-03-2020       22        0          0   \n",
      "39      35  Ontario  Ontario  06-03-2020       28        0          0   \n",
      "43      35  Ontario  Ontario  07-03-2020       28        0          0   \n",
      "47      35  Ontario  Ontario  08-03-2020       31        0          0   \n",
      "52      35  Ontario  Ontario  09-03-2020       34        0          0   \n",
      "57      35  Ontario  Ontario  11-03-2020       42        0          0   \n",
      "67      35  Ontario  Ontario  12-03-2020       59        0          0   \n",
      "76      35  Ontario  Ontario  13-03-2020       79        0          0   \n",
      "85      35  Ontario  Ontario  14-03-2020       79        0          0   \n",
      "94      35  Ontario  Ontario  15-03-2020      103        0          0   \n",
      "105     35  Ontario  Ontario  16-03-2020      145        0          0   \n",
      "117     35  Ontario  Ontario  17-03-2020      177        0          0   \n",
      "129     35  Ontario  Ontario  18-03-2020      189        0          0   \n",
      "141     35  Ontario  Ontario  19-03-2020      258        0          0   \n",
      "156     35  Ontario  Ontario  20-03-2020      311        0          2   \n",
      "171     35  Ontario  Ontario  21-03-2020      377        0          3   \n",
      "186     35  Ontario  Ontario  22-03-2020      425        0          5   \n",
      "201     35  Ontario  Ontario  23-03-2020      503        0          6   \n",
      "216     35  Ontario  Ontario  24-03-2020      588        0          8   \n",
      "231     35  Ontario  Ontario  25-03-2020      688        0         13   \n",
      "246     35  Ontario  Ontario  26-03-2020      858        0         15   \n",
      "261     35  Ontario  Ontario  27-03-2020      993        0         18   \n",
      "\n",
      "     numtotal  numtoday  \n",
      "0           3       NaN  \n",
      "3           3       NaN  \n",
      "6           3       NaN  \n",
      "9           3       NaN  \n",
      "12          4       NaN  \n",
      "15          4       NaN  \n",
      "18          5       NaN  \n",
      "21          6       NaN  \n",
      "24          8       NaN  \n",
      "27         15       NaN  \n",
      "31         20       NaN  \n",
      "35         22       NaN  \n",
      "39         28       NaN  \n",
      "43         28       NaN  \n",
      "47         31       NaN  \n",
      "52         34       NaN  \n",
      "57         42       NaN  \n",
      "67         59       NaN  \n",
      "76         79       NaN  \n",
      "85         79       NaN  \n",
      "94        103       NaN  \n",
      "105       145       NaN  \n",
      "117       177       NaN  \n",
      "129       189       NaN  \n",
      "141       258       NaN  \n",
      "156       311       NaN  \n",
      "171       377       NaN  \n",
      "186       425       NaN  \n",
      "201       503       NaN  \n",
      "216       588       NaN  \n",
      "231       688       NaN  \n",
      "246       858       NaN  \n",
      "261       993       NaN  \n"
     ]
    }
   ],
   "source": [
    "# extracting data from Ontario\n",
    "ontario = dfTotal.loc[dfTotal['pruid'] == 35]\n",
    "print(ontario)"
   ]
  },
  {
   "cell_type": "code",
   "execution_count": 4,
   "metadata": {},
   "outputs": [
    {
     "name": "stdout",
     "output_type": "stream",
     "text": [
      "33\n",
      "0        3\n",
      "3        3\n",
      "6        3\n",
      "9        3\n",
      "12       4\n",
      "15       4\n",
      "18       5\n",
      "21       6\n",
      "24       8\n",
      "27      15\n",
      "31      20\n",
      "35      22\n",
      "39      28\n",
      "43      28\n",
      "47      31\n",
      "52      34\n",
      "57      42\n",
      "67      59\n",
      "76      79\n",
      "85      79\n",
      "94     103\n",
      "105    145\n",
      "117    177\n",
      "129    189\n",
      "141    258\n",
      "156    311\n",
      "171    377\n",
      "186    425\n",
      "201    503\n",
      "216    588\n",
      "231    688\n",
      "246    858\n",
      "261    993\n",
      "Name: numconf, dtype: object\n"
     ]
    }
   ],
   "source": [
    "# extracting confirmed cases\n",
    "confirmedCases = ontario.transpose().iloc[4]\n",
    "\n",
    "days = len(confirmedCases) # need to fix this, doesn't actually give right amount of days\n",
    "\n",
    "print(days)\n",
    "print(confirmedCases)"
   ]
  },
  {
   "cell_type": "code",
   "execution_count": 5,
   "metadata": {},
   "outputs": [
    {
     "ename": "NameError",
     "evalue": "name 'cases' is not defined",
     "output_type": "error",
     "traceback": [
      "\u001b[1;31m---------------------------------------------------------------------------\u001b[0m",
      "\u001b[1;31mNameError\u001b[0m                                 Traceback (most recent call last)",
      "\u001b[1;32m<ipython-input-5-60e19b836de8>\u001b[0m in \u001b[0;36m<module>\u001b[1;34m\u001b[0m\n\u001b[0;32m      3\u001b[0m \u001b[1;33m\u001b[0m\u001b[0m\n\u001b[0;32m      4\u001b[0m \u001b[0mplt\u001b[0m\u001b[1;33m.\u001b[0m\u001b[0mfigure\u001b[0m\u001b[1;33m(\u001b[0m\u001b[0mdpi\u001b[0m\u001b[1;33m=\u001b[0m\u001b[1;36m230\u001b[0m\u001b[1;33m)\u001b[0m\u001b[1;33m\u001b[0m\u001b[1;33m\u001b[0m\u001b[0m\n\u001b[1;32m----> 5\u001b[1;33m \u001b[0mplt\u001b[0m\u001b[1;33m.\u001b[0m\u001b[0mplot\u001b[0m\u001b[1;33m(\u001b[0m\u001b[0mdaysList\u001b[0m\u001b[1;33m,\u001b[0m \u001b[0mcases\u001b[0m\u001b[1;33m.\u001b[0m\u001b[0miloc\u001b[0m\u001b[1;33m[\u001b[0m\u001b[1;36m0\u001b[0m\u001b[1;33m:\u001b[0m\u001b[1;33m]\u001b[0m\u001b[1;33m)\u001b[0m\u001b[1;33m\u001b[0m\u001b[1;33m\u001b[0m\u001b[0m\n\u001b[0m\u001b[0;32m      6\u001b[0m \u001b[0mplt\u001b[0m\u001b[1;33m.\u001b[0m\u001b[0mxlabel\u001b[0m\u001b[1;33m(\u001b[0m\u001b[1;34m'Days'\u001b[0m\u001b[1;33m)\u001b[0m\u001b[1;33m\u001b[0m\u001b[1;33m\u001b[0m\u001b[0m\n\u001b[0;32m      7\u001b[0m \u001b[0mplt\u001b[0m\u001b[1;33m.\u001b[0m\u001b[0mylabel\u001b[0m\u001b[1;33m(\u001b[0m\u001b[1;34m'Confirmed Cases'\u001b[0m\u001b[1;33m)\u001b[0m\u001b[1;33m\u001b[0m\u001b[1;33m\u001b[0m\u001b[0m\n",
      "\u001b[1;31mNameError\u001b[0m: name 'cases' is not defined"
     ]
    },
    {
     "data": {
      "text/plain": [
       "<Figure size 1380x920 with 0 Axes>"
      ]
     },
     "metadata": {},
     "output_type": "display_data"
    }
   ],
   "source": [
    "# doesn't work yet\n",
    "daysList = np.linspace(1, days, days)\n",
    "\n",
    "plt.figure(dpi=230)\n",
    "plt.plot(daysList, cases.iloc[0:])\n",
    "plt.xlabel('Days')\n",
    "plt.ylabel('Confirmed Cases')\n",
    "plt.title('Confirmed Cases of covid-19 in Ontario')\n",
    "plt.show()"
   ]
  },
  {
   "cell_type": "code",
   "execution_count": null,
   "metadata": {},
   "outputs": [],
   "source": []
  }
 ],
 "metadata": {
  "kernelspec": {
   "display_name": "'Python Interactive'",
   "language": "python",
   "name": "3ec91f7b-6399-4f3f-91ce-7dfc6303c49c"
  },
  "language_info": {
   "codemirror_mode": {
    "name": "ipython",
    "version": 3
   },
   "file_extension": ".py",
   "mimetype": "text/x-python",
   "name": "python",
   "nbconvert_exporter": "python",
   "pygments_lexer": "ipython3",
   "version": "3.7.5"
  }
 },
 "nbformat": 4,
 "nbformat_minor": 2
}
